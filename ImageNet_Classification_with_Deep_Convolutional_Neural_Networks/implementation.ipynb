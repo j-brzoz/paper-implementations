{
 "cells": [
  {
   "cell_type": "code",
   "execution_count": 1,
   "metadata": {
    "execution": {
     "iopub.execute_input": "2025-02-22T14:57:34.215801Z",
     "iopub.status.busy": "2025-02-22T14:57:34.215423Z",
     "iopub.status.idle": "2025-02-22T14:57:40.019788Z",
     "shell.execute_reply": "2025-02-22T14:57:40.018871Z",
     "shell.execute_reply.started": "2025-02-22T14:57:34.215765Z"
    },
    "trusted": true
   },
   "outputs": [
    {
     "name": "stdout",
     "output_type": "stream",
     "text": [
      "Used seed : 12\n"
     ]
    }
   ],
   "source": [
    "import torch\n",
    "import torch.nn as nn\n",
    "import torch.optim as optim\n",
    "import torch.nn.functional as F\n",
    "from torchvision import datasets, transforms\n",
    "from torch.utils.data import DataLoader, random_split\n",
    "import numpy as np\n",
    "import matplotlib.pyplot as plt\n",
    "from tqdm import trange, tqdm\n",
    "\n",
    "torch.manual_seed(12)\n",
    "seed = torch.initial_seed()\n",
    "print('Used seed : {}'.format(seed))"
   ]
  },
  {
   "cell_type": "code",
   "execution_count": 2,
   "metadata": {
    "execution": {
     "iopub.execute_input": "2025-02-22T14:57:40.020885Z",
     "iopub.status.busy": "2025-02-22T14:57:40.020524Z",
     "iopub.status.idle": "2025-02-22T14:57:40.073082Z",
     "shell.execute_reply": "2025-02-22T14:57:40.072030Z",
     "shell.execute_reply.started": "2025-02-22T14:57:40.020861Z"
    },
    "trusted": true
   },
   "outputs": [
    {
     "name": "stdout",
     "output_type": "stream",
     "text": [
      "Device: cuda\n"
     ]
    }
   ],
   "source": [
    "device = torch.device('cuda' if torch.cuda.is_available() else 'cpu')\n",
    "print(f\"Device: {device}\")"
   ]
  },
  {
   "cell_type": "code",
   "execution_count": 3,
   "metadata": {
    "execution": {
     "iopub.execute_input": "2025-02-22T14:57:40.075421Z",
     "iopub.status.busy": "2025-02-22T14:57:40.075174Z",
     "iopub.status.idle": "2025-02-22T14:57:40.094979Z",
     "shell.execute_reply": "2025-02-22T14:57:40.094293Z",
     "shell.execute_reply.started": "2025-02-22T14:57:40.075398Z"
    },
    "trusted": true
   },
   "outputs": [],
   "source": [
    "N_CLASSES = 10\n",
    "BATCH_SIZE = 128\n",
    "NUM_EPOCHS = 90"
   ]
  },
  {
   "cell_type": "code",
   "execution_count": 4,
   "metadata": {
    "execution": {
     "iopub.execute_input": "2025-02-22T14:57:40.096463Z",
     "iopub.status.busy": "2025-02-22T14:57:40.096216Z",
     "iopub.status.idle": "2025-02-22T14:57:47.428556Z",
     "shell.execute_reply": "2025-02-22T14:57:47.427895Z",
     "shell.execute_reply.started": "2025-02-22T14:57:40.096443Z"
    },
    "trusted": true
   },
   "outputs": [
    {
     "name": "stdout",
     "output_type": "stream",
     "text": [
      "Downloading https://www.cs.toronto.edu/~kriz/cifar-10-python.tar.gz to ../data/cifar-10-python.tar.gz\n"
     ]
    },
    {
     "name": "stderr",
     "output_type": "stream",
     "text": [
      "100%|██████████| 170M/170M [00:03<00:00, 45.4MB/s] \n"
     ]
    },
    {
     "name": "stdout",
     "output_type": "stream",
     "text": [
      "Extracting ../data/cifar-10-python.tar.gz to ../data/\n",
      "Files already downloaded and verified\n"
     ]
    }
   ],
   "source": [
    "# \"We did not pre-process the images in any other way,\n",
    "# except for subtracting the mean activity over the training set from each pixel.\"\n",
    " \n",
    "transform = transforms.Compose([\n",
    "        transforms.ToTensor(),\n",
    "        transforms.Normalize((0.47336316108703613,), (1,))  # mean computed beforehand\n",
    "])\n",
    "\n",
    "train_dataset = datasets.CIFAR10(root='../data/', train=True, download=True, transform=transform)\n",
    "train_loader = DataLoader(train_dataset, batch_size=BATCH_SIZE, shuffle=True)\n",
    "\n",
    "test_dataset = datasets.CIFAR10(root='../data/', train=False, download=True, transform=transform)\n",
    "\n",
    "val_size = len(test_dataset) // 2      # 5000 samples for validation\n",
    "test_size = len(test_dataset) - val_size  # 5000 samples for testing\n",
    "\n",
    "# split the dataset\n",
    "val_dataset, test_dataset = random_split(test_dataset, [val_size, test_size])\n",
    "\n",
    "val_loader = DataLoader(val_dataset, batch_size=BATCH_SIZE, shuffle=True)\n",
    "test_loader = DataLoader(test_dataset, batch_size=BATCH_SIZE, shuffle=True)"
   ]
  },
  {
   "cell_type": "code",
   "execution_count": 5,
   "metadata": {
    "execution": {
     "iopub.execute_input": "2025-02-22T14:57:47.429780Z",
     "iopub.status.busy": "2025-02-22T14:57:47.429425Z",
     "iopub.status.idle": "2025-02-22T14:57:47.434230Z",
     "shell.execute_reply": "2025-02-22T14:57:47.433322Z",
     "shell.execute_reply.started": "2025-02-22T14:57:47.429746Z"
    },
    "trusted": true
   },
   "outputs": [],
   "source": [
    "labels = {\n",
    "\t0: \"airplane\",\n",
    "\t1: \"automobile\",\n",
    "\t2: \"bird\",\n",
    "\t3: \"cat\",\n",
    "\t4: \"deer\",\n",
    "\t5: \"dog\",\n",
    "\t6: \"frog\",\n",
    "\t7: \"horse\",\n",
    "\t8: \"ship\",\n",
    "\t9: \"truck\"\n",
    "}"
   ]
  },
  {
   "cell_type": "code",
   "execution_count": 6,
   "metadata": {
    "execution": {
     "iopub.execute_input": "2025-02-22T14:57:47.435442Z",
     "iopub.status.busy": "2025-02-22T14:57:47.435179Z",
     "iopub.status.idle": "2025-02-22T14:57:47.449075Z",
     "shell.execute_reply": "2025-02-22T14:57:47.448262Z",
     "shell.execute_reply.started": "2025-02-22T14:57:47.435420Z"
    },
    "trusted": true
   },
   "outputs": [],
   "source": [
    "# mean = 0\n",
    "# total_samples = 0\n",
    "\n",
    "# for images, _ in train_loader:\n",
    "#     batch_samples = images.size(0)\n",
    "#     total_samples += batch_samples\n",
    "#     mean += images.mean() * batch_samples\n",
    "\n",
    "# mean /= total_samples\n",
    "\n",
    "# print(\"Mean per channel:\", mean.item())"
   ]
  },
  {
   "cell_type": "code",
   "execution_count": 7,
   "metadata": {
    "execution": {
     "iopub.execute_input": "2025-02-22T14:57:47.449951Z",
     "iopub.status.busy": "2025-02-22T14:57:47.449747Z",
     "iopub.status.idle": "2025-02-22T14:57:47.463378Z",
     "shell.execute_reply": "2025-02-22T14:57:47.462602Z",
     "shell.execute_reply.started": "2025-02-22T14:57:47.449932Z"
    },
    "trusted": true
   },
   "outputs": [],
   "source": [
    "class AlexNet(nn.Module):\n",
    "    def __init__(self, num_classes):\n",
    "        super().__init__()\n",
    "        # my input size is 3 x 32 x 32\n",
    "        self.net = nn.Sequential(\n",
    "            nn.Conv2d(in_channels=3, out_channels=96, kernel_size=7, stride=1),  # 96 x 26 x 26\n",
    "            nn.ReLU(),\n",
    "            nn.LocalResponseNorm(size=5, alpha=0.0001, beta=0.75, k=2),  # section 3.3\n",
    "            nn.MaxPool2d(kernel_size=3, stride=2),  # 96 x 12 x 12\n",
    "            \n",
    "            nn.Conv2d(96, 256, 5, padding=2),  # 256 x 12 x 12\n",
    "            nn.ReLU(),\n",
    "            nn.LocalResponseNorm(size=5, alpha=0.0001, beta=0.75, k=2),\n",
    "            nn.MaxPool2d(kernel_size=3, stride=2),  # 256 x 5 x 5\n",
    "            \n",
    "            nn.Conv2d(256, 384, 3, padding=1),  # 384 x 5 x 5\n",
    "            nn.ReLU(),\n",
    "            \n",
    "            nn.Conv2d(384, 384, 3, padding=1),  # 384 x 5 x 5\n",
    "            nn.ReLU(),\n",
    "            \n",
    "            nn.Conv2d(384, 256, 3, padding=1),  # 256 x 5 x 5\n",
    "            nn.ReLU(),\n",
    "            nn.MaxPool2d(kernel_size=3, stride=2),  # 256 x 2 x 2\n",
    "\n",
    "\t\t\t# classifier\n",
    "            nn.Flatten(),\n",
    "            nn.Dropout(p=0.5),\n",
    "            nn.Linear(in_features=(256 * 2 * 2), out_features=512),\n",
    "            nn.ReLU(),\n",
    "            \n",
    "            nn.Dropout(p=0.5),\n",
    "            nn.Linear(in_features=512, out_features=512),\n",
    "            nn.ReLU(),\n",
    "            \n",
    "            nn.Linear(in_features=512, out_features=num_classes),\n",
    "        )\n",
    "        self.init_bias()\n",
    "\n",
    "    def init_bias(self):\n",
    "        '''\n",
    "        We initialized the weights in each layer from a zero-mean Gaussian \n",
    "        distribution with standard deviation 0.01. We initialized the neuron\n",
    "        biases in the second, fourth, and fifth convolutional layers,\n",
    "\t\tas well as in the fully-connected hidden layers, with the constant 1. \n",
    "        '''\n",
    "        for layer in self.net:\n",
    "            if isinstance(layer, nn.Conv2d):\n",
    "                nn.init.normal_(layer.weight, mean=0, std=0.01)\n",
    "                nn.init.constant_(layer.bias, 0)\n",
    "        nn.init.constant_(self.net[4].bias, 1)\n",
    "        nn.init.constant_(self.net[10].bias, 1)\n",
    "        nn.init.constant_(self.net[12].bias, 1)\n",
    "        nn.init.constant_(self.net[17].bias, 1)\n",
    "        nn.init.constant_(self.net[20].bias, 1)\n",
    "\n",
    "    def forward(self, x):\n",
    "        return  self.net(x)\n"
   ]
  },
  {
   "cell_type": "code",
   "execution_count": 8,
   "metadata": {
    "execution": {
     "iopub.execute_input": "2025-02-22T14:57:47.464311Z",
     "iopub.status.busy": "2025-02-22T14:57:47.464081Z",
     "iopub.status.idle": "2025-02-22T14:57:47.479669Z",
     "shell.execute_reply": "2025-02-22T14:57:47.478996Z",
     "shell.execute_reply.started": "2025-02-22T14:57:47.464281Z"
    },
    "trusted": true
   },
   "outputs": [],
   "source": [
    "def train(model, optimizer, criterion, dataloader):\n",
    "\tnum_batches = len(dataloader)\n",
    "\n",
    "\tmodel.train()\n",
    "\ttotal_loss = 0\n",
    "\n",
    "\tfor X, y in dataloader:\n",
    "\t\tX, y = X.to(device), y.to(device)\n",
    "\n",
    "\t\toptimizer.zero_grad()\n",
    "\t\tpred = model(X)  # forward pass\n",
    "\t\tloss = criterion(pred, y)  # calculate loss\n",
    "\t\tloss.backward()  # backward pass\n",
    "\t\toptimizer.step()  # update parameters\n",
    "\t\ttotal_loss += loss.item()  # tracking\n",
    "\n",
    "\tavg_loss = total_loss / num_batches\n",
    "\treturn avg_loss"
   ]
  },
  {
   "cell_type": "code",
   "execution_count": 9,
   "metadata": {
    "execution": {
     "iopub.execute_input": "2025-02-22T14:57:47.480586Z",
     "iopub.status.busy": "2025-02-22T14:57:47.480370Z",
     "iopub.status.idle": "2025-02-22T14:57:47.488893Z",
     "shell.execute_reply": "2025-02-22T14:57:47.488132Z",
     "shell.execute_reply.started": "2025-02-22T14:57:47.480567Z"
    },
    "trusted": true
   },
   "outputs": [],
   "source": [
    "def evaluate(model, criterion, dataloader):\n",
    "    model.eval()\n",
    "    total_loss = 0.0\n",
    "    num_batches = len(dataloader)\n",
    "    total_correct = 0\n",
    "    total_samples = 0\n",
    "    \n",
    "    with torch.no_grad():\n",
    "        for X, y in dataloader:\n",
    "            X, y = X.to(device), y.to(device)\n",
    "            \n",
    "            pred = model(X)\n",
    "            loss = criterion(pred, y)\n",
    "            total_loss += loss.item()\n",
    "            \n",
    "            # accuracy\n",
    "            _, predicted = torch.max(pred, dim=1)\n",
    "            total_correct += (predicted == y).sum().item()\n",
    "            total_samples += y.size(0)\n",
    "            \n",
    "    avg_loss = total_loss / num_batches\n",
    "    accuracy = total_correct / total_samples\n",
    "    return avg_loss, accuracy"
   ]
  },
  {
   "cell_type": "code",
   "execution_count": 10,
   "metadata": {
    "execution": {
     "iopub.execute_input": "2025-02-22T14:57:47.489997Z",
     "iopub.status.busy": "2025-02-22T14:57:47.489699Z",
     "iopub.status.idle": "2025-02-22T14:57:47.758300Z",
     "shell.execute_reply": "2025-02-22T14:57:47.757605Z",
     "shell.execute_reply.started": "2025-02-22T14:57:47.489963Z"
    },
    "trusted": true
   },
   "outputs": [
    {
     "data": {
      "text/plain": [
       "4519050"
      ]
     },
     "execution_count": 10,
     "metadata": {},
     "output_type": "execute_result"
    }
   ],
   "source": [
    "alexnet = AlexNet(N_CLASSES).to(device)\n",
    "sum(p.numel() for p in alexnet.parameters() if p.requires_grad)"
   ]
  },
  {
   "cell_type": "code",
   "execution_count": 11,
   "metadata": {
    "execution": {
     "iopub.execute_input": "2025-02-22T14:57:47.759258Z",
     "iopub.status.busy": "2025-02-22T14:57:47.759052Z",
     "iopub.status.idle": "2025-02-22T14:57:47.763916Z",
     "shell.execute_reply": "2025-02-22T14:57:47.763109Z",
     "shell.execute_reply.started": "2025-02-22T14:57:47.759240Z"
    },
    "trusted": true
   },
   "outputs": [],
   "source": [
    "'''\n",
    "We trained our models using stochastic gradient descent\n",
    "with a batch size of 128 examples, momentum of 0.9, and\n",
    "weight decay of 0.0005.\n",
    "'''\n",
    "# original implementation doesnt seem to train\n",
    "# optimizer = optim.SGD(params=alexnet.parameters(), lr=0.01, momentum=0.9, weight_decay=0.0005)\n",
    "optimizer = optim.Adam(params=alexnet.parameters(), lr=0.0001)\n",
    "\n",
    "'''\n",
    "The heuristic which we followed was to divide the learning rate by 10 when \n",
    "the validation error rate stopped improving with the current learning rate. \n",
    "The learning rate was initialized at 0.01\n",
    "'''\n",
    "scheduler = optim.lr_scheduler.ReduceLROnPlateau(\n",
    "    optimizer,\n",
    "    mode=\"min\",\n",
    "    factor=0.1,\n",
    "    patience=2,\n",
    "    threshold=1e-6,\n",
    "    threshold_mode=\"rel\",\n",
    "    cooldown=0,\n",
    "    min_lr=1e-8\n",
    ")\n",
    "\n",
    "#  Our network maximizes the multinomial logistic regression\n",
    "criterion = nn.CrossEntropyLoss()"
   ]
  },
  {
   "cell_type": "code",
   "execution_count": 12,
   "metadata": {
    "execution": {
     "iopub.execute_input": "2025-02-22T14:57:47.766681Z",
     "iopub.status.busy": "2025-02-22T14:57:47.766387Z",
     "iopub.status.idle": "2025-02-22T14:57:47.783577Z",
     "shell.execute_reply": "2025-02-22T14:57:47.782708Z",
     "shell.execute_reply.started": "2025-02-22T14:57:47.766616Z"
    },
    "trusted": true
   },
   "outputs": [],
   "source": [
    "class EarlyStopping():\n",
    "    def __init__(self, patience=5, min_delta=0):\n",
    "        self.patience = patience\n",
    "        self.min_delta = min_delta\n",
    "        self.counter = 0\n",
    "        self.best_loss = None\n",
    "        self.early_stop = False\n",
    "\n",
    "    def __call__(self, val_loss):\n",
    "        if self.best_loss == None:\n",
    "            self.best_loss = val_loss\n",
    "        elif self.best_loss - val_loss > self.min_delta:\n",
    "            self.best_loss = val_loss\n",
    "            self.counter = 0  # reset counter if validation loss improves\n",
    "        elif self.best_loss - val_loss < self.min_delta:\n",
    "            self.counter += 1\n",
    "            print(f\"INFO: Early stopping counter {self.counter} of {self.patience}\")\n",
    "            if self.counter >= self.patience:\n",
    "                print('INFO: Early stopping')\n",
    "                self.early_stop = True"
   ]
  },
  {
   "cell_type": "code",
   "execution_count": 13,
   "metadata": {
    "execution": {
     "iopub.execute_input": "2025-02-22T14:57:47.784767Z",
     "iopub.status.busy": "2025-02-22T14:57:47.784530Z",
     "iopub.status.idle": "2025-02-22T15:12:59.586396Z",
     "shell.execute_reply": "2025-02-22T15:12:59.585341Z",
     "shell.execute_reply.started": "2025-02-22T14:57:47.784746Z"
    },
    "trusted": true
   },
   "outputs": [
    {
     "name": "stdout",
     "output_type": "stream",
     "text": [
      "1/90, Training Loss: 2.1474, Validation Loss: 1.8811, Validation Accuracy: 0.2742, Learning Rate: [0.0001]\n",
      "2/90, Training Loss: 1.7718, Validation Loss: 1.6529, Validation Accuracy: 0.3808, Learning Rate: [0.0001]\n",
      "3/90, Training Loss: 1.6097, Validation Loss: 1.5249, Validation Accuracy: 0.4336, Learning Rate: [0.0001]\n",
      "4/90, Training Loss: 1.5230, Validation Loss: 1.4493, Validation Accuracy: 0.4704, Learning Rate: [0.0001]\n",
      "5/90, Training Loss: 1.4459, Validation Loss: 1.3796, Validation Accuracy: 0.4966, Learning Rate: [0.0001]\n",
      "6/90, Training Loss: 1.3725, Validation Loss: 1.2839, Validation Accuracy: 0.5256, Learning Rate: [0.0001]\n",
      "7/90, Training Loss: 1.3121, Validation Loss: 1.2938, Validation Accuracy: 0.5366, Learning Rate: [0.0001]\n",
      "INFO: Early stopping counter 1 of 5\n",
      "8/90, Training Loss: 1.2529, Validation Loss: 1.2091, Validation Accuracy: 0.5714, Learning Rate: [0.0001]\n",
      "9/90, Training Loss: 1.1968, Validation Loss: 1.1502, Validation Accuracy: 0.5862, Learning Rate: [0.0001]\n",
      "10/90, Training Loss: 1.1515, Validation Loss: 1.1193, Validation Accuracy: 0.6000, Learning Rate: [0.0001]\n",
      "11/90, Training Loss: 1.1022, Validation Loss: 1.1040, Validation Accuracy: 0.6144, Learning Rate: [0.0001]\n",
      "12/90, Training Loss: 1.0607, Validation Loss: 1.0987, Validation Accuracy: 0.6160, Learning Rate: [0.0001]\n",
      "13/90, Training Loss: 1.0211, Validation Loss: 1.0586, Validation Accuracy: 0.6178, Learning Rate: [0.0001]\n",
      "14/90, Training Loss: 0.9879, Validation Loss: 1.0422, Validation Accuracy: 0.6350, Learning Rate: [0.0001]\n",
      "15/90, Training Loss: 0.9452, Validation Loss: 1.0182, Validation Accuracy: 0.6330, Learning Rate: [0.0001]\n",
      "16/90, Training Loss: 0.9140, Validation Loss: 0.9470, Validation Accuracy: 0.6654, Learning Rate: [0.0001]\n",
      "17/90, Training Loss: 0.8791, Validation Loss: 0.9968, Validation Accuracy: 0.6552, Learning Rate: [0.0001]\n",
      "INFO: Early stopping counter 1 of 5\n",
      "18/90, Training Loss: 0.8476, Validation Loss: 0.9736, Validation Accuracy: 0.6660, Learning Rate: [0.0001]\n",
      "INFO: Early stopping counter 2 of 5\n",
      "19/90, Training Loss: 0.8197, Validation Loss: 0.9406, Validation Accuracy: 0.6808, Learning Rate: [0.0001]\n",
      "20/90, Training Loss: 0.7923, Validation Loss: 0.9464, Validation Accuracy: 0.6822, Learning Rate: [0.0001]\n",
      "INFO: Early stopping counter 1 of 5\n",
      "21/90, Training Loss: 0.7508, Validation Loss: 0.9450, Validation Accuracy: 0.6766, Learning Rate: [0.0001]\n",
      "INFO: Early stopping counter 2 of 5\n",
      "22/90, Training Loss: 0.7221, Validation Loss: 0.9661, Validation Accuracy: 0.6830, Learning Rate: [1e-05]\n",
      "INFO: Early stopping counter 3 of 5\n",
      "23/90, Training Loss: 0.6328, Validation Loss: 0.8887, Validation Accuracy: 0.7034, Learning Rate: [1e-05]\n",
      "24/90, Training Loss: 0.6117, Validation Loss: 0.8876, Validation Accuracy: 0.7016, Learning Rate: [1e-05]\n",
      "25/90, Training Loss: 0.6030, Validation Loss: 0.9071, Validation Accuracy: 0.7042, Learning Rate: [1e-05]\n",
      "INFO: Early stopping counter 1 of 5\n",
      "26/90, Training Loss: 0.5921, Validation Loss: 0.8874, Validation Accuracy: 0.7054, Learning Rate: [1e-05]\n",
      "27/90, Training Loss: 0.5899, Validation Loss: 0.9058, Validation Accuracy: 0.7050, Learning Rate: [1e-05]\n",
      "INFO: Early stopping counter 1 of 5\n",
      "28/90, Training Loss: 0.5820, Validation Loss: 0.8890, Validation Accuracy: 0.7048, Learning Rate: [1e-05]\n",
      "INFO: Early stopping counter 2 of 5\n",
      "29/90, Training Loss: 0.5749, Validation Loss: 0.8830, Validation Accuracy: 0.7066, Learning Rate: [1e-05]\n",
      "30/90, Training Loss: 0.5712, Validation Loss: 0.8923, Validation Accuracy: 0.7040, Learning Rate: [1e-05]\n",
      "INFO: Early stopping counter 1 of 5\n",
      "31/90, Training Loss: 0.5657, Validation Loss: 0.9105, Validation Accuracy: 0.7048, Learning Rate: [1e-05]\n",
      "INFO: Early stopping counter 2 of 5\n",
      "32/90, Training Loss: 0.5573, Validation Loss: 0.9213, Validation Accuracy: 0.7050, Learning Rate: [1.0000000000000002e-06]\n",
      "INFO: Early stopping counter 3 of 5\n",
      "33/90, Training Loss: 0.5437, Validation Loss: 0.8856, Validation Accuracy: 0.7078, Learning Rate: [1.0000000000000002e-06]\n",
      "INFO: Early stopping counter 4 of 5\n",
      "34/90, Training Loss: 0.5418, Validation Loss: 0.8806, Validation Accuracy: 0.7078, Learning Rate: [1.0000000000000002e-06]\n",
      "35/90, Training Loss: 0.5444, Validation Loss: 0.9104, Validation Accuracy: 0.7096, Learning Rate: [1.0000000000000002e-06]\n",
      "INFO: Early stopping counter 1 of 5\n",
      "36/90, Training Loss: 0.5393, Validation Loss: 0.8819, Validation Accuracy: 0.7098, Learning Rate: [1.0000000000000002e-06]\n",
      "INFO: Early stopping counter 2 of 5\n",
      "37/90, Training Loss: 0.5424, Validation Loss: 0.8868, Validation Accuracy: 0.7112, Learning Rate: [1.0000000000000002e-07]\n",
      "INFO: Early stopping counter 3 of 5\n",
      "38/90, Training Loss: 0.5388, Validation Loss: 0.8819, Validation Accuracy: 0.7110, Learning Rate: [1.0000000000000002e-07]\n",
      "INFO: Early stopping counter 4 of 5\n",
      "39/90, Training Loss: 0.5387, Validation Loss: 0.9093, Validation Accuracy: 0.7100, Learning Rate: [1.0000000000000002e-07]\n",
      "INFO: Early stopping counter 5 of 5\n",
      "INFO: Early stopping\n"
     ]
    }
   ],
   "source": [
    "train_losses = []\n",
    "val_losses = []\n",
    "accuracies = []\n",
    "early_stopping = EarlyStopping(patience=5, min_delta=1e-6)\n",
    "\n",
    "for epoch in range(NUM_EPOCHS):\n",
    "    train_loss = train(alexnet, optimizer, criterion, train_loader)\n",
    "    train_losses.append(train_loss)\n",
    "\n",
    "    val_loss, accuracy = evaluate(alexnet, criterion, val_loader)\n",
    "    val_losses.append(val_loss)\n",
    "    accuracies.append(accuracy)\n",
    "    scheduler.step(val_loss)\n",
    "    \n",
    "    print(\n",
    "    f\"{epoch+1}/{NUM_EPOCHS}, \"\n",
    "    f\"Training Loss: {train_loss:.4f}, \"\n",
    "    f\"Validation Loss: {val_loss:.4f}, \"\n",
    "    f\"Validation Accuracy: {accuracy:.4f}, \"\n",
    "    f\"Learning Rate: {scheduler.get_last_lr()}\"\n",
    "    )\n",
    "\n",
    "    # check early stopping\n",
    "    early_stopping(val_loss)\n",
    "    if early_stopping.early_stop:\n",
    "        break\n",
    "    \n",
    "torch.save(alexnet.state_dict(), f\"alexnet.pt\")"
   ]
  },
  {
   "cell_type": "code",
   "execution_count": 14,
   "metadata": {
    "execution": {
     "iopub.execute_input": "2025-02-22T15:12:59.587702Z",
     "iopub.status.busy": "2025-02-22T15:12:59.587400Z",
     "iopub.status.idle": "2025-02-22T15:12:59.834405Z",
     "shell.execute_reply": "2025-02-22T15:12:59.833597Z",
     "shell.execute_reply.started": "2025-02-22T15:12:59.587671Z"
    },
    "trusted": true
   },
   "outputs": [
    {
     "data": {
      "image/png": "[encoded data removed]",
      "text/plain": [
       "<Figure size 640x480 with 1 Axes>"
      ]
     },
     "metadata": {},
     "output_type": "display_data"
    }
   ],
   "source": [
    "plt.plot(train_losses, label=\"train loss\")\n",
    "plt.plot(val_losses, label=\"validation loss\")\n",
    "plt.xlabel(\"epochs\")\n",
    "plt.ylabel(\"loss\")\n",
    "plt.grid(True)\n",
    "plt.legend()\n",
    "plt.show()"
   ]
  },
  {
   "cell_type": "code",
   "execution_count": 15,
   "metadata": {
    "execution": {
     "iopub.execute_input": "2025-02-22T15:12:59.835326Z",
     "iopub.status.busy": "2025-02-22T15:12:59.835094Z",
     "iopub.status.idle": "2025-02-22T15:12:59.989567Z",
     "shell.execute_reply": "2025-02-22T15:12:59.988809Z",
     "shell.execute_reply.started": "2025-02-22T15:12:59.835306Z"
    },
    "trusted": true
   },
   "outputs": [
    {
     "data": {
      "image/png": "[encoded data removed]",
      "text/plain": [
       "<Figure size 640x480 with 1 Axes>"
      ]
     },
     "metadata": {},
     "output_type": "display_data"
    }
   ],
   "source": [
    "plt.plot(accuracies, label=\"accuracy\")\n",
    "plt.xlabel(\"epochs\")\n",
    "plt.ylabel(\"accuracy on validation set\")\n",
    "plt.grid(True)\n",
    "plt.legend()\n",
    "plt.show()"
   ]
  },
  {
   "cell_type": "code",
   "execution_count": 18,
   "metadata": {
    "execution": {
     "iopub.execute_input": "2025-02-22T15:35:04.788997Z",
     "iopub.status.busy": "2025-02-22T15:35:04.788662Z",
     "iopub.status.idle": "2025-02-22T15:35:06.324917Z",
     "shell.execute_reply": "2025-02-22T15:35:06.324034Z",
     "shell.execute_reply.started": "2025-02-22T15:35:04.788972Z"
    },
    "trusted": true
   },
   "outputs": [
    {
     "name": "stdout",
     "output_type": "stream",
     "text": [
      "Test loss: 0.8237404976040125, test accuracy: 0.724\n"
     ]
    }
   ],
   "source": [
    "test_loss, test_acc = evaluate(alexnet, criterion, test_loader)\n",
    "print(f\"Test loss: {test_loss}, test accuracy: {test_acc}\")"
   ]
  },
  {
   "cell_type": "markdown",
   "metadata": {},
   "source": [
    "Test loss: 0.8237404976040125, test accuracy: 0.724"
   ]
  }
 ],
 "metadata": {
  "kaggle": {
   "accelerator": "gpu",
   "dataSources": [],
   "dockerImageVersionId": 30919,
   "isGpuEnabled": true,
   "isInternetEnabled": true,
   "language": "python",
   "sourceType": "notebook"
  },
  "kernelspec": {
   "display_name": "base",
   "language": "python",
   "name": "python3"
  },
  "language_info": {
   "codemirror_mode": {
    "name": "ipython",
    "version": 3
   },
   "file_extension": ".py",
   "mimetype": "text/x-python",
   "name": "python",
   "nbconvert_exporter": "python",
   "pygments_lexer": "ipython3",
   "version": "3.11.8"
  }
 },
 "nbformat": 4,
 "nbformat_minor": 4
}
